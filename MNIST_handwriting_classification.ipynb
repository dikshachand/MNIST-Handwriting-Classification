{
 "cells": [
  {
   "cell_type": "code",
   "execution_count": 1,
   "id": "c3beedc1",
   "metadata": {},
   "outputs": [],
   "source": [
    "import struct\n",
    "import numpy as np\n",
    "import gzip\n",
    "import matplotlib.pyplot as plt\n",
    "from sklearn.naive_bayes import BernoulliNB\n",
    "from sklearn.linear_model import LogisticRegression\n",
    "from sklearn.metrics import confusion_matrix, accuracy_score\n",
    "import pickle"
   ]
  },
  {
   "cell_type": "code",
   "execution_count": 2,
   "id": "75fcad17",
   "metadata": {},
   "outputs": [],
   "source": [
    "def load_data_images(fname):\n",
    "    path = \"/Users/dikshachand/Documents/Applied ML/HW1/mnist/\"+fname+\"-ubyte.gz\"\n",
    "\n",
    "    data = None\n",
    "\n",
    "    with gzip.open(path, 'rb') as f:\n",
    "        magic, size = struct.unpack(\">II\", f.read(8))\n",
    "        nrows, ncols = struct.unpack(\">II\", f.read(8))\n",
    "        data = np.frombuffer(f.read(), dtype=np.dtype(np.uint8).newbyteorder('>'))\n",
    "        data = data.reshape((size, nrows, ncols))\n",
    "        data = data.reshape(data.shape[0], (data.shape[1]*data.shape[2]))\n",
    "\n",
    "    print(fname, data.shape)\n",
    "    return data\n",
    "\n",
    "properties_2016 = pd.read_csv('../zillow/properties_2016.csv')\n",
    "train_2016 = pd.read_csv('../zillow/train_2016.csv')\n",
    "properties_2017 = pd.read_csv('../zillow/properties_2017.csv')\n",
    "train_2017 = pd.read_csv('../zillow/train_2017.csv')"
   ]
  },
  {
   "cell_type": "code",
   "execution_count": 3,
   "id": "b599911e",
   "metadata": {},
   "outputs": [],
   "source": [
    "def load_data_labels(fname):\n",
    "    path = \"/Users/dikshachand/Documents/Applied ML/HW1/mnist/\"+fname+\"-ubyte.gz\"\n",
    "\n",
    "    data = None\n",
    "\n",
    "    with gzip.open(path, 'rb') as f:\n",
    "        magic, size = struct.unpack(\">II\", f.read(8))\n",
    "        data = np.frombuffer(f.read(), dtype=np.dtype(np.uint8).newbyteorder('>'))\n",
    "\n",
    "    print(fname, data.shape)\n",
    "    return data"
   ]
  },
  {
   "cell_type": "code",
   "execution_count": 4,
   "id": "370c0785",
   "metadata": {
    "scrolled": true
   },
   "outputs": [
    {
     "name": "stdout",
     "output_type": "stream",
     "text": [
      "train-images-idx3 (60000, 784)\n",
      "shape after flattening: (60000, 784)\n",
      "train-labels-idx1 (60000,)\n",
      "t10k-images-idx3 (10000, 784)\n",
      "shape after flattening: (10000, 784)\n",
      "t10k-labels-idx1 (10000,)\n"
     ]
    },
    {
     "data": {
      "image/png": "[encoded data removed]",
      "text/plain": [
       "<Figure size 640x480 with 1 Axes>"
      ]
     },
     "metadata": {},
     "output_type": "display_data"
    },
    {
     "data": {
      "image/png": "[encoded data removed]",
      "text/plain": [
       "<Figure size 640x480 with 1 Axes>"
      ]
     },
     "metadata": {},
     "output_type": "display_data"
    }
   ],
   "source": [
    "X_train = load_data_images('train-images-idx3')\n",
    "print(\"shape after flattening:\",X_train.shape)\n",
    "\n",
    "y_train = load_data_labels('train-labels-idx1')\n",
    "\n",
    "X_test = load_data_images('t10k-images-idx3')\n",
    "print(\"shape after flattening:\",X_test.shape)\n",
    "\n",
    "y_test = load_data_labels('t10k-labels-idx1')\n",
    "\n",
    "plt.imshow(X_train[:,:], cmap='gray')\n",
    "plt.show()\n",
    "plt.imshow(X_test[:,:], cmap='gray')\n",
    "plt.show()"
   ]
  },
  {
   "cell_type": "code",
   "execution_count": 5,
   "id": "ca852219",
   "metadata": {},
   "outputs": [
    {
     "data": {
      "text/plain": [
       "BernoulliNB()"
      ]
     },
     "execution_count": 5,
     "metadata": {},
     "output_type": "execute_result"
    }
   ],
   "source": [
    "nb_model = BernoulliNB()\n",
    "nb_model.fit(X_train, y_train)"
   ]
  },
  {
   "cell_type": "code",
   "execution_count": 6,
   "id": "904cee37",
   "metadata": {},
   "outputs": [],
   "source": [
    "y_pred_nb = nb_model.predict(X_test)\n",
    "nb_accuracy_test = accuracy_score(y_test, y_pred_nb)\n",
    "nb_confusion_matrix_test = confusion_matrix(y_test, y_pred_nb)\n",
    "\n",
    "y_pred_nb = nb_model.predict(X_train)\n",
    "nb_accuracy_train = accuracy_score(y_train, y_pred_nb)\n",
    "nb_confusion_matrix_train = confusion_matrix(y_train, y_pred_nb)"
   ]
  },
  {
   "cell_type": "code",
   "execution_count": 7,
   "id": "dc697130",
   "metadata": {},
   "outputs": [
    {
     "name": "stderr",
     "output_type": "stream",
     "text": [
      "/Users/dikshachand/opt/anaconda3/lib/python3.9/site-packages/sklearn/linear_model/_logistic.py:763: ConvergenceWarning: lbfgs failed to converge (status=1):\n",
      "STOP: TOTAL NO. of ITERATIONS REACHED LIMIT.\n",
      "\n",
      "Increase the number of iterations (max_iter) or scale the data as shown in:\n",
      "    https://scikit-learn.org/stable/modules/preprocessing.html\n",
      "Please also refer to the documentation for alternative solver options:\n",
      "    https://scikit-learn.org/stable/modules/linear_model.html#logistic-regression\n",
      "  n_iter_i = _check_optimize_result(\n"
     ]
    },
    {
     "data": {
      "text/plain": [
       "LogisticRegression()"
      ]
     },
     "execution_count": 7,
     "metadata": {},
     "output_type": "execute_result"
    }
   ],
   "source": [
    "lr_model = LogisticRegression()\n",
    "lr_model.fit(X_train, y_train)"
   ]
  },
  {
   "cell_type": "code",
   "execution_count": 8,
   "id": "fecfd6c3",
   "metadata": {
    "scrolled": true
   },
   "outputs": [],
   "source": [
    "y_pred_lr = lr_model.predict(X_test)\n",
    "lr_accuracy_test = accuracy_score(y_test, y_pred_lr)\n",
    "lr_confusion_matrix_test = confusion_matrix(y_test, y_pred_lr)\n",
    "\n",
    "y_pred_lr = lr_model.predict(X_train)\n",
    "lr_accuracy_train = accuracy_score(y_train, y_pred_lr)\n",
    "lr_confusion_matrix_train = confusion_matrix(y_train, y_pred_lr)"
   ]
  },
  {
   "cell_type": "code",
   "execution_count": 9,
   "id": "b0bbdb0f",
   "metadata": {},
   "outputs": [],
   "source": [
    "pickle.dump(nb_model, open('/Users/dikshachand/Documents/Applied ML/HW1/nb.model', 'wb'))\n",
    "pickle.dump(lr_model, open('/Users/dikshachand/Documents/Applied ML/HW1/lr.model', 'wb'))"
   ]
  },
  {
   "cell_type": "code",
   "execution_count": 10,
   "id": "011dacfd",
   "metadata": {},
   "outputs": [
    {
     "name": "stdout",
     "output_type": "stream",
     "text": [
      "Naive Bayes Confusion Matrix (Test Data): \n",
      " [[ 887    0    4    7    2   41   16    1   22    0]\n",
      " [   0 1085   10    5    0    9    6    0   19    1]\n",
      " [  19    8  852   29   17    4   32   14   55    2]\n",
      " [   5   15   34  844    0   13    9   15   49   26]\n",
      " [   2    6    4    0  795    4   21    1   23  126]\n",
      " [  23   12    7  129   30  627   16    8   21   19]\n",
      " [  18   18   15    2   13   35  851    0    6    0]\n",
      " [   1   24   14    4   15    0    0  871   27   72]\n",
      " [  16   23   13   76   17   22    7    6  758   36]\n",
      " [   9   13    5    9   74    8    0   24   24  843]]\n",
      "Accuracy:  0.8413\n",
      "\n",
      "Naive Bayes Confusion Matrix (Train Data): \n",
      " [[5273    3   26   38   16  283  114    0  161    9]\n",
      " [   0 6457   59   16    4   70   26    4   90   16]\n",
      " [  93   86 4913  149  128   19  232   60  261   17]\n",
      " [  56  138  275 4871   19  148   54   74  309  187]\n",
      " [  13   52   38    0 4693   29   89   28  124  776]\n",
      " [ 158   72   53  805  161 3763  118   23  108  160]\n",
      " [  60  158  119    2   47  170 5318    0   42    2]\n",
      " [  26  133   47   18  168    9    1 5297  127  439]\n",
      " [  80  227  102  476   65  157   35   13 4454  242]\n",
      " [  54   91   27   82  431   24    1  235  168 4836]]\n",
      "Accuracy:  0.83125\n",
      "\n",
      "\n",
      "Logistic Regression Confusion Matrix (Test Data): \n",
      " [[ 963    0    0    3    1    3    4    4    2    0]\n",
      " [   0 1112    4    2    0    1    3    2   11    0]\n",
      " [   3   10  926   15    6    4   15    8   42    3]\n",
      " [   4    1   21  916    1   26    3    9   22    7]\n",
      " [   1    1    7    3  910    0    9    7   10   34]\n",
      " [  11    2    1   33   11  776   11    6   35    6]\n",
      " [   9    3    7    3    7   16  910    2    1    0]\n",
      " [   1    6   24    5    7    1    0  951    3   30]\n",
      " [   8    7    6   23    6   26   10   10  869    9]\n",
      " [   9    7    0   11   25    6    0   22    7  922]]\n",
      "Accuracy:  0.9255\n",
      "\n",
      "Logistic Regression Confusion Matrix (Train Data): \n",
      " [[5764    0   15    9   14   36   33   10   38    4]\n",
      " [   1 6584   32   19    6   20    3   10   55   12]\n",
      " [  28   47 5445   89   61   20   56   51  140   21]\n",
      " [  17   23  118 5582    6  162   14   50  119   40]\n",
      " [  13   22   23    9 5491    8   48   15   42  171]\n",
      " [  57   18   40  161   48 4793   82   15  160   47]\n",
      " [  34    9   40    0   35   58 5713    4   21    4]\n",
      " [  11   20   58   28   42    8    4 5896   20  178]\n",
      " [  27   93   55  122   19  136   36   18 5293   52]\n",
      " [  21   22   14   70  129   33    3  138   45 5474]]\n",
      "Accuracy:  0.9339166666666666\n"
     ]
    }
   ],
   "source": [
    "print(\"Naive Bayes Confusion Matrix (Test Data): \\n\", nb_confusion_matrix_test)\n",
    "print(\"Accuracy: \", nb_accuracy_test)\n",
    "print(\"\\nNaive Bayes Confusion Matrix (Train Data): \\n\", nb_confusion_matrix_train)\n",
    "print(\"Accuracy: \", nb_accuracy_train)\n",
    "\n",
    "print(\"\\n\\nLogistic Regression Confusion Matrix (Test Data): \\n\", lr_confusion_matrix_test)\n",
    "print(\"Accuracy: \", lr_accuracy_test)\n",
    "print(\"\\nLogistic Regression Confusion Matrix (Train Data): \\n\", lr_confusion_matrix_train)\n",
    "print(\"Accuracy: \", lr_accuracy_train)"
   ]
  },
  {
   "cell_type": "markdown",
   "id": "3591f582",
   "metadata": {},
   "source": [
    "Logistic Regression model provides a greater accuracy than the Naive Bayes model.\n",
    "I observe that there is a similarity in the results of confusion matrices of performace on test data and train data, for each model. This means that the model is generalising well overall.\n",
    "There are a few classes that each model is predicting with least error. For example, the Naive Bayes model seems to be good at classifying 7's and comparitively poor at 8's. And, the Logistic regression model performs well with correctly classifying 1's and poorly for 8's. It could be true that the data is not equally weighted for each of the classes (digits from 0 to 9)."
   ]
  }
 ],
 "metadata": {
  "kernelspec": {
   "display_name": "Python 3 (ipykernel)",
   "language": "python",
   "name": "python3"
  },
  "language_info": {
   "codemirror_mode": {
    "name": "ipython",
    "version": 3
   },
   "file_extension": ".py",
   "mimetype": "text/x-python",
   "name": "python",
   "nbconvert_exporter": "python",
   "pygments_lexer": "ipython3",
   "version": "3.9.13"
  }
 },
 "nbformat": 4,
 "nbformat_minor": 5
}
